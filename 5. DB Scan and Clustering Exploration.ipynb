{
 "cells": [
  {
   "cell_type": "code",
   "execution_count": null,
   "metadata": {
    "collapsed": true
   },
   "outputs": [],
   "source": [
    "import numpy as np\n",
    "import matplotlib.pyplot as plt\n",
    "\n",
    "from sklearn.metrics import silhouette_score\n",
    "from sklearn import cluster, datasets, mixture\n",
    "from sklearn.neighbors import kneighbors_graph"
   ]
  },
  {
   "cell_type": "markdown",
   "metadata": {},
   "source": [
    "# Dataset"
   ]
  },
  {
   "cell_type": "code",
   "execution_count": null,
   "metadata": {
    "collapsed": true
   },
   "outputs": [],
   "source": [
    "np.random.seed(844)\n",
    "clust1 = np.random.normal(5, 2, (1000,2))\n",
    "clust2 = np.random.normal(15, 3, (1000,2))\n",
    "clust3 = np.random.multivariate_normal([17,3], [[1,0],[0,1]], 1000)\n",
    "clust4 = np.random.multivariate_normal([2,16], [[1,0],[0,1]], 1000)\n",
    "dataset1 = np.concatenate((clust1, clust2, clust3, clust4))\n",
    "\n",
    "# we take the first array as the second array has the cluster labels\n",
    "dataset2 = datasets.make_circles(n_samples=1000, factor=.5, noise=.05)[0]\n",
    "\n",
    "dataset3 = datasets.make_blobs(n_samples=1000,\n",
    "                             cluster_std=[1.0, 2.5, 0.5],\n",
    "                             random_state=844)[0]\n",
    "\n",
    "dataset3 = np.random.rand(2000, 2), None\n",
    "dataset3 = dataset3[0]"
   ]
  },
  {
   "cell_type": "code",
   "execution_count": null,
   "metadata": {
    "collapsed": true
   },
   "outputs": [],
   "source": [
    "# plot clustering output on the two datasets\n",
    "def cluster_plots(set1, set2, set3, colours1 = 'gray', colours2 = 'gray', colours3 = 'gray',\n",
    "                  title1 = 'Dataset 1',  title2 = 'Dataset 2', title3 = 'Dataset3'):\n",
    "    \n",
    "    fig,(ax1,ax2,ax3) = plt.subplots(1, 3)\n",
    "    \n",
    "    fig.set_size_inches(10, 4)\n",
    "    \n",
    "    ax1.set_title(title1,fontsize=14)\n",
    "    ax1.set_xlim(min(set1[:,0]), max(set1[:,0]))\n",
    "    ax1.set_ylim(min(set1[:,1]), max(set1[:,1]))\n",
    "    ax1.scatter(set1[:, 0], set1[:, 1],s=8,lw=0,c= colours1)\n",
    "    \n",
    "    ax2.set_title(title2,fontsize=14)\n",
    "    ax2.set_xlim(min(set2[:,0]), max(set2[:,0]))\n",
    "    ax2.set_ylim(min(set2[:,1]), max(set2[:,1]))\n",
    "    ax2.scatter(set2[:, 0], set2[:, 1],s=8,lw=0,c=colours2)\n",
    "    \n",
    "    ax3.set_title(title3,fontsize=14)\n",
    "    ax3.set_xlim(min(set3[:,0]), max(set3[:,0]))\n",
    "    ax3.set_ylim(min(set3[:,1]), max(set3[:,1]))\n",
    "    ax3.scatter(set3[:, 0], set3[:, 1],s=8,lw=0,c=colours3)\n",
    "    \n",
    "    fig.tight_layout()\n",
    "    plt.show()"
   ]
  },
  {
   "cell_type": "code",
   "execution_count": null,
   "metadata": {},
   "outputs": [],
   "source": [
    "cluster_plots(dataset1, dataset2, dataset3)"
   ]
  },
  {
   "cell_type": "markdown",
   "metadata": {},
   "source": [
    "# K Means"
   ]
  },
  {
   "cell_type": "code",
   "execution_count": null,
   "metadata": {},
   "outputs": [],
   "source": [
    "kmeans_dataset1 = cluster.KMeans(n_clusters=4, max_iter=300, \n",
    "                                 init='k-means++',n_init=10).fit_predict(dataset1)\n",
    "\n",
    "kmeans_dataset2 = cluster.KMeans(n_clusters=2, max_iter=300, \n",
    "                                 init='k-means++',n_init=10).fit_predict(dataset2)\n",
    "\n",
    "kmeans_dataset3 = cluster.KMeans(n_clusters=4, max_iter=300, \n",
    "                                 init='k-means++',n_init=10).fit_predict(dataset3)\n",
    "\n",
    "cluster_plots(dataset1, dataset2,dataset3,\n",
    "              kmeans_dataset1, kmeans_dataset2, kmeans_dataset3)"
   ]
  },
  {
   "cell_type": "markdown",
   "metadata": {},
   "source": [
    "# Agglomerative Clustering"
   ]
  },
  {
   "cell_type": "code",
   "execution_count": null,
   "metadata": {},
   "outputs": [],
   "source": [
    "hc_dataset1 = cluster.AgglomerativeClustering(n_clusters=4, affinity='euclidean', \n",
    "                                              linkage='ward').fit_predict(dataset1)\n",
    "\n",
    "hc_dataset2 = cluster.AgglomerativeClustering(n_clusters=2, affinity='euclidean', \n",
    "                                              linkage='average').fit_predict(dataset2)\n",
    "\n",
    "hc_dataset3 = cluster.AgglomerativeClustering(n_clusters=4, affinity='euclidean', \n",
    "                                              linkage='average').fit_predict(dataset3)\n",
    "\n",
    "cluster_plots(dataset1, dataset2, dataset3, hc_dataset1, hc_dataset2, hc_dataset3)\n"
   ]
  },
  {
   "cell_type": "markdown",
   "metadata": {},
   "source": [
    "# DB Scan"
   ]
  },
  {
   "cell_type": "code",
   "execution_count": null,
   "metadata": {},
   "outputs": [],
   "source": [
    "# implenting DBSCAN\n",
    "dbscan_dataset1 = cluster.DBSCAN(eps=1, min_samples=5, metric='euclidean').fit_predict(dataset1)\n",
    "dbscan_dataset2 = cluster.DBSCAN(eps=0.1, min_samples=5, metric='euclidean').fit_predict(dataset2)\n",
    "dbscan_dataset3 = cluster.DBSCAN(eps=1, min_samples=5, metric='euclidean').fit_predict(dataset3)\n",
    "# noise points are assigned -1\n",
    "print('Dataset1:')\n",
    "print \"Number of Noise Points: \",sum(dbscan_dataset1==-1),\"(\",len(dbscan_dataset1),\")\"\n",
    "\n",
    "print('Dataset2:')\n",
    "print \"Number of Noise Points: \",sum(dbscan_dataset2==-1),\" (\",len(dbscan_dataset2),\")\"\n",
    "\n",
    "print('Dataset3:')\n",
    "print \"Number of Noise Points: \",sum(dbscan_dataset3==-1),\" (\",len(dbscan_dataset3),\")\"\n",
    "\n",
    "cluster_plots(dataset1, dataset2,dataset3, dbscan_dataset1, dbscan_dataset2, dbscan_dataset3)\n"
   ]
  }
 ],
 "metadata": {
  "anaconda-cloud": {},
  "kernelspec": {
   "display_name": "Python [default]",
   "language": "python",
   "name": "python2"
  },
  "language_info": {
   "codemirror_mode": {
    "name": "ipython",
    "version": 2
   },
   "file_extension": ".py",
   "mimetype": "text/x-python",
   "name": "python",
   "nbconvert_exporter": "python",
   "pygments_lexer": "ipython2",
   "version": "2.7.12"
  }
 },
 "nbformat": 4,
 "nbformat_minor": 2
}
